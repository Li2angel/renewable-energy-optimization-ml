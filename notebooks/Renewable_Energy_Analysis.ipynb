{
 "cells": [
  {
   "cell_type": "markdown",
   "metadata": {},
   "source": [
    "## Project Overview\n",
    "\n",
    "This project explores global renewable energy consumption patterns using World Bank data. The goal is to apply machine learning techniques to analyze, cluster, and eventually optimize renewable energy distribution across countries and regions"
   ]
  },
  {
   "cell_type": "markdown",
   "metadata": {},
   "source": [
    "## Data Import"
   ]
  },
  {
   "cell_type": "code",
   "execution_count": null,
   "metadata": {},
   "outputs": [],
   "source": [
    "# importing necessary libraries\n",
    "import pandas as pd\n",
    "import matplotlib.pyplot as plt\n",
    "import seaborn as sns"
   ]
  },
  {
   "cell_type": "code",
   "execution_count": null,
   "metadata": {},
   "outputs": [],
   "source": [
    "# Load and inspect the data\n",
    "# The World Bank data is available at: https://data.worldbank.org/indicator/EG.FEC.RNEW.ZS\n",
    "\n",
    "file_name = 'data/API_EG.FEC.RNEW.ZS_DS2_en_csv_v2_13732.csv'\n",
    "\n",
    "# World Bank data has extra rows we need to skip \n",
    "df = pd.read_csv(file_name, skiprows=4)\n",
    "df.head()"
   ]
  },
  {
   "cell_type": "markdown",
   "metadata": {},
   "source": [
    "## Exploring the data\n",
    "\n",
    "We should check:\n",
    "\n",
    "- Missing values\n",
    "\n",
    "- Column names\n",
    "\n",
    "- Data types"
   ]
  },
  {
   "cell_type": "code",
   "execution_count": null,
   "metadata": {},
   "outputs": [],
   "source": [
    "# for getting an overview of what the dataframe entails (datatype, non-null values)\n",
    "print(\"Shape:\", df.shape)\n",
    "df.info()\n",
    "\n",
    "df.isnull().sum().head()"
   ]
  },
  {
   "cell_type": "code",
   "execution_count": null,
   "metadata": {},
   "outputs": [],
   "source": [
    "# Plot top countries (latest year)\n",
    "df_latest = df[[\"Country Name\", \"2020\"]].dropna().sort_values(by=\"2020\", ascending=False).head(10)\n",
    "sns.barplot(x=\"2020\", y=\"Country Name\", data=df_latest)\n",
    "plt.title(\"Top 10 Countries by Renewable Energy % (2020)\")\n",
    "plt.xlabel(\"% of Total Energy Consumption\")\n",
    "plt.ylabel(\"Country\")\n",
    "plt.show()"
   ]
  },
  {
   "cell_type": "markdown",
   "metadata": {},
   "source": [
    "## Data Cleaning"
   ]
  },
  {
   "cell_type": "code",
   "execution_count": null,
   "metadata": {},
   "outputs": [],
   "source": [
    "# Re-inspect Null Values\n",
    "\n",
    "# check total missing values by column\n",
    "missing_per_year = df.isnull().sum().iloc[5:]\n",
    "missing_per_year[missing_per_year > 0].plot(kind='bar', figsize=(15, 4))\n",
    "plt.title('Missing values per year')\n",
    "plt.ylabel('Count')\n",
    "plt.xlabel('Year')\n",
    "plt.tight_layout()\n",
    "plt.show()"
   ]
  },
  {
   "cell_type": "code",
   "execution_count": null,
   "metadata": {},
   "outputs": [],
   "source": [
    "# Let's Focus on Relevant Years\n",
    "# filtering from 2000 to 2022 (good for recent trends)\n",
    "\n",
    "years = [str(y) for y in range(2000, 2021)]\n",
    "df_years = df[['Country Name', 'Country Code'] + years]\n",
    "\n",
    "# Removing countries with with more than 50% missing values across years\n",
    "df_cleaned_new = df_years.dropna(thresh = len(years) // 2 + 1)\n",
    "print(\"Remaining countries:\", df_cleaned_new.shape[0])\n",
    "\n",
    "# Alternatively\n",
    "\n",
    "threshold = int(len(df_years) * 0.05)\n",
    "#print(threshold)\n",
    "\n",
    "cols_to_drop = df_years.columns[df_years.isna().sum() <= threshold]\n",
    "#print(cols_to_drop)\n",
    "\n",
    "df_cleaned = df_years.dropna(subset=cols_to_drop)\n",
    "print('Remaining countries:', df_cleaned.shape[0])\n",
    "print(df_cleaned_new.isnull().sum())"
   ]
  },
  {
   "cell_type": "code",
   "execution_count": null,
   "metadata": {},
   "outputs": [],
   "source": [
    "# Filling the missing values \n",
    "# Imputing a summary statistics\n",
    "\n",
    "df_imputed_new = df_cleaned_new.copy()\n",
    "df_imputed_new[years] = df_imputed_new[years].apply(lambda row: row.fillna(row.mean()), axis=1)\n",
    "print(df_imputed_new.isna().sum())"
   ]
  },
  {
   "cell_type": "markdown",
   "metadata": {},
   "source": [
    "# Initial Visualization of the data\n",
    "\n",
    "visualizing countries that have similar renewable trend"
   ]
  },
  {
   "cell_type": "code",
   "execution_count": null,
   "metadata": {},
   "outputs": [],
   "source": [
    "# Visualize Country Clusters or Regional Differences\n",
    "# First visualizing the country clusters based on Energy Patterns\n",
    "\n",
    "from sklearn.decomposition import PCA\n",
    "from sklearn.cluster import KMeans\n",
    "from sklearn.preprocessing import StandardScaler\n",
    "import numpy as np\n",
    "\n",
    "# Reducing dimension using the PCA technique\n",
    "\n",
    "# Step 1. Normalize the data\n",
    "scaler = StandardScaler()\n",
    "X_scaled = scaler.fit_transform(cleaned_energy_data_imputed[years])\n",
    "\n",
    "# Step 2. Reduce the dimension to 2D using PCA\n",
    "pca = PCA(n_components = 2)\n",
    "X_pca = pca.fit_transform(X_scaled)\n",
    "\n",
    "# Step 3. Cluster with K-Means (let’s try 4 clusters for now)\n",
    "kmeans =  KMeans(n_clusters=4, random_state=42)\n",
    "country_clusters = kmeans.fit_predict(X_pca)"
   ]
  },
  {
   "cell_type": "code",
   "execution_count": null,
   "metadata": {},
   "outputs": [],
   "source": [
    "pca_df = pd.DataFrame(X_pca, columns=['PC1', 'PC2'])\n",
    "pca_df['Country'] = cleaned_energy_data_imputed['Country Name']\n",
    "pca_df['Country_Code'] = cleaned_energy_data_imputed['Country Code']\n",
    "pca_df['Cluster'] = country_clusters\n",
    "\n",
    "print(pca_df.head())\n",
    "\n",
    "# Group by cluster\n",
    "for cluster_id in sorted(pca_df['Cluster'].unique()):\n",
    "  print(f'\\n Cluster {cluster_id} Countries:')\n",
    "  print(pca_df[pca_df['Cluster'] == cluster_id]['Country'].tolist())\n",
    "\n",
    "\n",
    "\n",
    "# Step 4. Visualizing the clustered data\n",
    "plt.figure(figsize=(10,6))\n",
    "sns.scatterplot(x = X_pca[:, 0], y = X_pca[:, 1], hue = country_clusters, palette = 'Set2', s = 50)\n",
    "plt.title(\"Country Clusters Based on Renewable Energy Trends (2000–2020) via PCA + KMeans\")\n",
    "plt.xlabel(\"Overall Renewable Energy Adoption (2000–2020) (PC-1)\")\n",
    "plt.ylabel(\"Trend Variability Across Years (PC-2)\")\n",
    "plt.legend(title=\"Cluster\")\n",
    "\n",
    "# Annotating the plot with country name\n",
    "for i in range(len(pca_df)):\n",
    "  plt.text(pca_df['PC1'][i], pca_df['PC2'][i], pca_df['Country_Code'][i], fontsize=6, alpha=0.7)\n",
    "\n",
    "plt.grid(True)\n",
    "plt.show()"
   ]
  },
  {
   "cell_type": "code",
   "execution_count": null,
   "metadata": {},
   "outputs": [],
   "source": [
    "# Visualizing the reduced and cleaned data on a World Map \n",
    "# with the use plotly, geopandas, or folium to map clusters geographically:\n",
    "import plotly.express as px\n",
    "\n",
    "fig = px.scatter_geo(pca_df,\n",
    "                     locations=\"Country\",\n",
    "                     locationmode=\"country names\",\n",
    "                     color=\"Cluster\",\n",
    "                     title=\"Geographical View of Country Clusters on Renewable Energy Trends\",\n",
    "                     projection=\"natural earth\")\n",
    "\n",
    "fig.show()"
   ]
  }
 ],
 "metadata": {
  "kernelspec": {
   "display_name": "base",
   "language": "python",
   "name": "python3"
  },
  "language_info": {
   "name": "python",
   "version": "3.12.7"
  }
 },
 "nbformat": 4,
 "nbformat_minor": 2
}
