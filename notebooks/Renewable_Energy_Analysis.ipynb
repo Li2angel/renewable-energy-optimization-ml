{
 "cells": [
  {
   "cell_type": "markdown",
   "metadata": {},
   "source": [
    "## Project Overview\n",
    "\n",
    "This project explores global renewable energy consumption patterns using World Bank data. The goal is to apply machine learning techniques to analyze, cluster, and eventually optimize renewable energy distribution across countries and regions"
   ]
  },
  {
   "cell_type": "markdown",
   "metadata": {},
   "source": [
    "## Data Import"
   ]
  },
  {
   "cell_type": "code",
   "execution_count": null,
   "metadata": {},
   "outputs": [],
   "source": [
    "# importing necessary libraries\n",
    "import pandas as pd\n",
    "import matplotlib.pyplot as plt\n",
    "import seaborn as sns"
   ]
  },
  {
   "cell_type": "code",
   "execution_count": null,
   "metadata": {},
   "outputs": [],
   "source": [
    "# Load and inspect the data\n",
    "# The World Bank data is available at: https://data.worldbank.org/indicator/EG.FEC.RNEW.ZS\n",
    "\n",
    "file_name = 'data/API_EG.FEC.RNEW.ZS_DS2_en_csv_v2_13732.csv'\n",
    "\n",
    "# World Bank data has extra rows we need to skip \n",
    "df = pd.read_csv(file_name, skiprows=4)\n",
    "df.head()"
   ]
  },
  {
   "cell_type": "markdown",
   "metadata": {},
   "source": [
    "## Exploring the data\n",
    "\n",
    "We should check:\n",
    "\n",
    "- Missing values\n",
    "\n",
    "- Column names\n",
    "\n",
    "- Data types"
   ]
  },
  {
   "cell_type": "code",
   "execution_count": null,
   "metadata": {},
   "outputs": [],
   "source": [
    "# for getting an overview of what the dataframe entails (datatype, non-null values)\n",
    "print(\"Shape:\", df.shape)\n",
    "df.info()\n",
    "\n",
    "df.isnull().sum().head()"
   ]
  },
  {
   "cell_type": "code",
   "execution_count": null,
   "metadata": {},
   "outputs": [],
   "source": [
    "# Plot top countries (latest year)\n",
    "df_latest = df[[\"Country Name\", \"2020\"]].dropna().sort_values(by=\"2020\", ascending=False).head(10)\n",
    "sns.barplot(x=\"2020\", y=\"Country Name\", data=df_latest)\n",
    "plt.title(\"Top 10 Countries by Renewable Energy % (2020)\")\n",
    "plt.xlabel(\"% of Total Energy Consumption\")\n",
    "plt.ylabel(\"Country\")\n",
    "plt.show()"
   ]
  },
  {
   "cell_type": "markdown",
   "metadata": {},
   "source": [
    "## Data Cleaning"
   ]
  },
  {
   "cell_type": "code",
   "execution_count": null,
   "metadata": {},
   "outputs": [],
   "source": [
    "# Re-inspect Null Values\n",
    "\n",
    "# check total missing values by column\n",
    "missing_per_year = df.isnull().sum().iloc[5:]\n",
    "missing_per_year[missing_per_year > 0].plot(kind='bar', figsize=(15, 4))\n",
    "plt.title('Missing values per year')\n",
    "plt.ylabel('Count')\n",
    "plt.xlabel('Year')\n",
    "plt.tight_layout()\n",
    "plt.show()"
   ]
  },
  {
   "cell_type": "code",
   "execution_count": null,
   "metadata": {},
   "outputs": [],
   "source": [
    "# Let's Focus on Relevant Years\n",
    "# filtering from 2000 to 2022 (good for recent trends)\n",
    "\n",
    "years = [str(y) for y in range(2000, 2021)]\n",
    "df_years = df[['Country Name', 'Country Code'] + years]\n",
    "\n",
    "# Removing countries with with more than 50% missing values across years\n",
    "df_cleaned_new = df_years.dropna(thresh = len(years) // 2 + 1)\n",
    "print(\"Remaining countries:\", df_cleaned_new.shape[0])\n",
    "\n",
    "# Alternatively\n",
    "\n",
    "threshold = int(len(df_years) * 0.05)\n",
    "#print(threshold)\n",
    "\n",
    "cols_to_drop = df_years.columns[df_years.isna().sum() <= threshold]\n",
    "#print(cols_to_drop)\n",
    "\n",
    "df_cleaned = df_years.dropna(subset=cols_to_drop)\n",
    "print('Remaining countries:', df_cleaned.shape[0])\n",
    "print(df_cleaned_new.isnull().sum())"
   ]
  },
  {
   "cell_type": "code",
   "execution_count": null,
   "metadata": {},
   "outputs": [],
   "source": [
    "# Filling the missing values \n",
    "# Imputing a summary statistics\n",
    "\n",
    "df_imputed_new = df_cleaned_new.copy()\n",
    "df_imputed_new[years] = df_imputed_new[years].apply(lambda row: row.fillna(row.mean()), axis=1)\n",
    "print(df_imputed_new.isna().sum())"
   ]
  },
  {
   "cell_type": "markdown",
   "metadata": {},
   "source": [
    "# Initial Visualization of the data"
   ]
  }
 ],
 "metadata": {
  "kernelspec": {
   "display_name": "base",
   "language": "python",
   "name": "python3"
  },
  "language_info": {
   "name": "python",
   "version": "3.12.7"
  }
 },
 "nbformat": 4,
 "nbformat_minor": 2
}
