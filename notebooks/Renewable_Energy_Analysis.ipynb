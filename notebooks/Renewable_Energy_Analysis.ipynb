{
 "cells": [
  {
   "cell_type": "markdown",
   "metadata": {},
   "source": [
    "## Project Overview\n",
    "\n",
    "This project explores global renewable energy consumption patterns using World Bank data. The goal is to apply machine learning techniques to analyze, cluster, and eventually optimize renewable energy distribution across countries and regions"
   ]
  },
  {
   "cell_type": "markdown",
   "metadata": {},
   "source": [
    "## Data Import"
   ]
  },
  {
   "cell_type": "code",
   "execution_count": null,
   "metadata": {},
   "outputs": [],
   "source": [
    "# importing necessary libraries\n",
    "import pandas as pd\n",
    "import matplotlib.pyplot as plt\n",
    "import seaborn as sns"
   ]
  },
  {
   "cell_type": "code",
   "execution_count": null,
   "metadata": {},
   "outputs": [],
   "source": [
    "# Load and inspect the data\n",
    "# The World Bank data is available at: https://data.worldbank.org/indicator/EG.FEC.RNEW.ZS\n",
    "\n",
    "file_name = 'data/API_EG.FEC.RNEW.ZS_DS2_en_csv_v2_13732.csv'\n",
    "\n",
    "# World Bank data has extra rows we need to skip \n",
    "df = pd.read_csv(file_name, skiprows=4)\n",
    "df.head()"
   ]
  },
  {
   "cell_type": "markdown",
   "metadata": {},
   "source": [
    "## Exploring the data\n",
    "\n",
    "We should check:\n",
    "\n",
    "- Missing values\n",
    "\n",
    "- Column names\n",
    "\n",
    "- Data types"
   ]
  },
  {
   "cell_type": "code",
   "execution_count": null,
   "metadata": {},
   "outputs": [],
   "source": [
    "# for getting an overview of what the dataframe entails (datatype, non-null values)\n",
    "print(\"Shape:\", df.shape)\n",
    "df.info()\n",
    "\n",
    "df.isnull().sum().head()"
   ]
  },
  {
   "cell_type": "code",
   "execution_count": null,
   "metadata": {},
   "outputs": [],
   "source": [
    "# Plot top countries (latest year)\n",
    "df_latest = df[[\"Country Name\", \"2020\"]].dropna().sort_values(by=\"2020\", ascending=False).head(10)\n",
    "sns.barplot(x=\"2020\", y=\"Country Name\", data=df_latest)\n",
    "plt.title(\"Top 10 Countries by Renewable Energy % (2020)\")\n",
    "plt.xlabel(\"% of Total Energy Consumption\")\n",
    "plt.ylabel(\"Country\")\n",
    "plt.show()"
   ]
  },
  {
   "cell_type": "markdown",
   "metadata": {},
   "source": [
    "## Data Cleaning"
   ]
  },
  {
   "cell_type": "markdown",
   "metadata": {},
   "source": [
    "# Initial Visualization of the data"
   ]
  }
 ],
 "metadata": {
  "kernelspec": {
   "display_name": "base",
   "language": "python",
   "name": "python3"
  },
  "language_info": {
   "name": "python",
   "version": "3.12.7"
  }
 },
 "nbformat": 4,
 "nbformat_minor": 2
}
